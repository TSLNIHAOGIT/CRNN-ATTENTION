{
 "cells": [
  {
   "cell_type": "code",
   "execution_count": 17,
   "metadata": {},
   "outputs": [],
   "source": [
    "processed_labels=  ['<start> N V C 0 <end>', '<start> H 1 C 4 2 Y 5 C M M  <end>', '<start> M 9 T 0 8 K  <end>', '<start> 0 8 0 W D G  <end>', '<start> 3 0  <end>', '<start> Y Z A E N 9 E  <end>', '<start> J X P W R U U 3 S F  <end>', '<start> R X C E C G  <end>', '<start> P V J  <end>', '<start> 8 L 6 L D U C  <end>', '<start> 6 N 6 C  <end>', '<start> J 4 3 4 1  <end>', '<start> 7 4 F K 7 2 Z Z C E  <end>', '<start> F H N W  <end>', '<start> X O R C 9 Q Z 2 2 I  <end>', '<start> W 5 0 1 C 7  <end>', '<start> W 7 Z 2 O  <end>', '<start> X 9 F G H 3 1 S 9  <end>', '<start> Q P X I P I I 1  <end>', '<start> 2 T I T N T J U  <end>', '<start> S J 6  <end>', '<start> I A  <end>', '<start> N F 0 C L 4 C 0 F  <end>', '<start> 3 U D M 8 V  <end>', '<start> L D S 7 Y  <end>', '<start> I 1 Q S  <end>', '<start> D 4 A C E S Z D E X  <end>', '<start> 4 5 B Q Y Z B  <end>', '<start> 3 H  <end>', '<start> R A K  <end>', '<start> C J I N G L 8 7 0  <end>', '<start> G 2 D  <end>', '<start> P A 6 T L 4 F  <end>', '<start> Z V O S 8 T B  <end>', '<start> P  <end>', '<start> S E N I T K 1 1 C  <end>', '<start> 6 X 5  <end>', '<start> M 4 D Z Q 8 C N  <end>', '<start> M G  <end>', '<start> 5 V 9 2  <end>', '<start> W J X K F 8 B Q A  <end>', '<start> U H M D 4 4 N O N  <end>', '<start> 3 S 5 R 1 9 T 6 X  <end>', '<start> T P L D 0  <end>', '<start> B M A  <end>', '<start> 0 N T  <end>', '<start> M V I 0 7 W  <end>', '<start> R N 9 B U  <end>', '<start> D E D E 1 3 9 T O U  <end>', '<start> 0 F L K U W 6  <end>', '<start> 2 S 7 X X  <end>', '<start> E 2 U K 7  <end>', '<start> 9 I 5  <end>', '<start> X  <end>', '<start> E 0 W J Y R 1 Q X J  <end>', '<start> 8  <end>', '<start> F V W  <end>', '<start> W A U H S M N  <end>', '<start> 6 1 M X 9 8 R 4 J  <end>', '<start> X I A 6 T A  <end>', '<start> 9 B 2 Y 1 U  <end>', '<start> G  <end>', '<start> 3 O 6 N 3 F F J  <end>', '<start> U C 2 X Z S  <end>', '<start> W 8 1 3  <end>', '<start> 4 R D 4  <end>', '<start> U  <end>', '<start> M 7 E K  <end>', '<start> M J U A D S X B  <end>', '<start> I E A  <end>', '<start> H P H W A F R  <end>', '<start> 0 0 K A 9 6 2 0 7  <end>', '<start> Y T T Z J W  <end>', '<start> U 4 3 0 W E  <end>', '<start> B U G Z  <end>', '<start> L Q P 1 S A R T 7 0  <end>', '<start> 3 O Z W I 9 K 3 F  <end>', '<start> O Q 4 9 E 0  <end>', '<start> N 2  <end>', '<start> 7  <end>', '<start> N 8 F L G 1 Q 2 Y  <end>', '<start> 0 G 9  <end>', '<start> K M J M T 3  <end>', '<start> N  <end>', '<start> 1 V L 1 7 0 M J  <end>', '<start> 1 V F Y O  <end>', '<start> I 5 9 W  <end>', '<start> S  <end>', '<start> D 8 J 6 Y T  <end>', '<start> R  <end>', '<start> 2 N N 6 B 5 5 I  <end>', '<start> Z Z S G 5 7 D S Q Q  <end>', '<start> E O L M L  <end>', '<start> S V 9 O H N F E  <end>', '<start> W 6 4 1 U 9 0 8 E  <end>', '<start> 8 T O C  <end>', '<start> 9 S W G Y B  <end>', '<start> 5 K 9 T 6 Q D G  <end>', '<start> 9 T T 3 M D  <end>', '<start> M B 7 A  <end>', '<start> N 2 8 B C  <end>', '<start> Q B M 3 V V  <end>', '<start> 8 J W G G  <end>', '<start> M D B T D 2 O Q V  <end>', '<start> V M F F P B O Q  <end>', '<start> T 4 5 S Y 6 C S Q  <end>', '<start> N V L 2 M 6 6  <end>', '<start> H  <end>', '<start> W A 8 P S 9 P 4 J  <end>', '<start> R A R N K Y 5  <end>', '<start> 6 A H M W A G  <end>', '<start> F H O 1  <end>', '<start> S F P R E H  <end>', '<start> J C Y Q O 4  <end>', '<start> O Z K O Z B V  <end>', '<start> 6 A 3 O  <end>', '<start> H N 4  <end>', '<start> I I  <end>', '<start> 2  <end>', '<start> N 9 C  <end>', '<start> 8 D  <end>', '<start> M N 3 Y J L C I  <end>', '<start> 9  <end>', '<start> 2 M G G 5 T R 7 D  <end>', '<start> 9 H 4 0 H K F  <end>', '<start> O 3 Z B 9 7 B  <end>', '<start> Q I E  <end>', '<start> K Q Y  <end>', '<start> K M  <end>', '<start> 8 Z A M W  <end>', '<start> X 6 9 5 L M  <end>', '<start> I W 5 Z 0 C I 4 J  <end>', '<start> J 7 H 5 3  <end>', '<start> 8 U K U E Y  <end>', '<start> 4 0 8  <end>', '<start> C W S K Q 0  <end>', '<start> L I 5 8 S K 4 3 U  <end>', '<start> P 3 V L F Y  <end>', '<start> X R Z 9 N 1  <end>', '<start> X  <end>', '<start> 9 2 C J H  <end>', '<start> 4 C E D  <end>', '<start> M M P Q 7 7  <end>', '<start> 7  <end>', '<start> X  <end>', '<start> M 4 O Y Q  <end>', '<start> W 0 K X G 0 O  <end>', '<start> G N 2 2 5 D I 7  <end>', '<start> 6  <end>', '<start> X  <end>', '<start> G N 7 L  <end>', '<start> T F L 2 D A R 5  <end>', '<start> E F 6 S  <end>', '<start> W M A 0 E G M  <end>', '<start> 4 I C C  <end>', '<start> U P L E G V 6  <end>', '<start> C 2 A  <end>', '<start> X  <end>', '<start> 2 8 H O L 2  <end>', '<start> Z  <end>', '<start> 2 L C K 0 J E P 2 6  <end>', '<start> 3 R Y  <end>', '<start> U W 3 U 1 C N 3 G  <end>', '<start> 4 H C R  <end>', '<start> C S A O E Z Y U  <end>', '<start> W J L W  <end>', '<start> J  <end>', '<start> D  <end>', '<start> B T M K V 5 J  <end>', '<start> F Y D 3  <end>', '<start> S Q C B R 5 3  <end>', '<start> F Z 8  <end>', '<start> 9 3  <end>', '<start> 6 E K C G  <end>', '<start> L Z 9 X J X  <end>', '<start> 1 6 W B  <end>', '<start> J E P 4 M  <end>', '<start> 0 7 S J W 6 I O Q  <end>', '<start> V D  <end>', '<start> 2 B  <end>', '<start> R Y  <end>', '<start> 4 5 Y 8 N M  <end>', '<start> 0  <end>', '<start> V U 4 7 V 2 9 4 2  <end>', '<start> K U O X 2  <end>', '<start> Y  <end>', '<start> A Y T W 6 Q O K Z  <end>', '<start> L K T K M A 0 O E Y  <end>', '<start> M O J P Q  <end>', '<start> 6 1 N J J 9 C J 3 D  <end>', '<start> H  <end>', '<start> 7 V U L K V D B A S  <end>', '<start> E D V Q 2 8 U 3 6  <end>', '<start> U J H O O  <end>', '<start> T E T 1  <end>', '<start> 9 T G R 9 2 B R G  <end>', '<start> E A Y  <end>', '<start> Q N  <end>', '<start> E 4 P H K  <end>', '<start> R D Q K 5  <end>', '<start> 5  <end>', '<start> U  <end>', '<start> O K  <end>', '<start> 0 6 E R N E 0  <end>', '<start> 5 D  <end>', '<start> M F A V  <end>', '<start> 9 U W G 8 Q  <end>', '<start> L H  <end>', '<start> K 8 6 S D G  <end>', '<start> 9 2 0 F  <end>', '<start> V 3  <end>', '<start> D Y 2 Z  <end>', '<start> Q 1 D  <end>', '<start> 3 V 5  <end>', '<start> L F P X  <end>', '<start> C 6  <end>', '<start> 0 U N  <end>', '<start> N D C  <end>', '<start> G 6 5  <end>', '<start> F G 4 X F S  <end>', '<start> 7 P F R N 3 R S U  <end>', '<start> T 5 H W 0 K R 9 X  <end>', '<start> C 9 9  <end>', '<start> V 9 1 E O Z M F L V  <end>', '<start> Y C 5  <end>', '<start> Q V E P 0 0 9 A S  <end>', '<start> H Z 3 S 0 Z 8 W  <end>', '<start> 8 D K  <end>', '<start> I K I C  <end>', '<start> 6 6 J W 9 L F  <end>', '<start> 5 A N 8  <end>', '<start> W  <end>', '<start> D 1 3  <end>', '<start> M  <end>', '<start> R M Q 6 N B F O O  <end>', '<start> Q P P  <end>', '<start> S  <end>', '<start> J F K I  <end>', '<start> L 1 6 F 2 R 4 Q D 2  <end>', '<start> 1 Z B I 3 U  <end>', '<start> 7 J G  <end>', '<start> 9 U 4 V D S T X C  <end>', '<start> A M L R D Y T D 9  <end>', '<start> 7 4 C O 5 9 1 1 F  <end>', '<start> V  <end>', '<start> V  <end>', '<start> K 7 3 8 Y X F  <end>', '<start> 0 9 W 3 P O  <end>', '<start> F P J J T A 4 H  <end>', '<start> 7 W D 4 H E U I G  <end>', '<start> Q W P P D 9  <end>', '<start> I 0 Z D O  <end>', '<start> U V 1 8  <end>', '<start> W D 5  <end>', '<start> V W  <end>', '<start> 7 9 V E  <end>', '<start> O Z D 5  <end>', '<start> 4 F S F Q M C O B  <end>', '<start> C W F Z L L  <end>', '<start> 3 I 6 M G 0  <end>', '<start> M Z W D 1 8  <end>', '<start> F 7 Y 3 6 5  <end>', '<start> F H A 6  <end>', '<start> 4 U 8 H 8 0 9 P M  <end>', '<start> Y F X 5 0 B I  <end>', '<start> W V S  <end>', '<start> 7 V O Z V K R K  <end>', '<start> Q K M X 6 T D 9  <end>', '<start> A Q U 7 W 6 U W K 2  <end>', '<start> 7 F E 3  <end>', '<start> 8 9 T D R T V  <end>', '<start> S  <end>', '<start> M J R 4 G E N  <end>', '<start> 7 6 E 3  <end>', '<start> 5 V Y  <end>', '<start> 1 R 6 V T  <end>', '<start> X  <end>', '<start> O 2 B S 2 B A  <end>', '<start> 4 O S S  <end>', '<start> N 2 7  <end>', '<start> L T F C F D 6  <end>', '<start> R O L 7 3 Z  <end>', '<start> D L  <end>', '<start> E P  <end>', '<start> B 9 D 1 O Q F B U 3  <end>', '<start> 7 C N I Q V H C K  <end>', '<start> G G D V 2 N I U  <end>', '<start> 4  <end>', '<start> N A 9 O 2 2 S U N B  <end>', '<start> P M S 6  <end>', '<start> S E L S T I  <end>', '<start> 5 I W R Q Z 7 4 E 3  <end>', '<start> S 3 I  <end>', '<start> C S L T  <end>']\n"
   ]
  },
  {
   "cell_type": "code",
   "execution_count": 18,
   "metadata": {},
   "outputs": [],
   "source": [
    "import re"
   ]
  },
  {
   "cell_type": "code",
   "execution_count": 19,
   "metadata": {},
   "outputs": [
    {
     "name": "stdout",
     "output_type": "stream",
     "text": [
      "label '<start> N V C 0 <end>'\n",
      "['<start>', 'N', 'V', 'C', '0', '<end>']\n",
      "e <start>\n",
      "e N\n",
      "e V\n",
      "e C\n",
      "e 0\n",
      "e <end>\n",
      "s <start>\n",
      "s N\n",
      "s V\n",
      "s C\n",
      "s 0\n",
      "s <end>\n"
     ]
    }
   ],
   "source": [
    "for label in processed_labels:\n",
    "    print('label',repr(label))\n",
    "    \n",
    "    print(label.split(' '))\n",
    "    for e in re.split('\\s+',label):\n",
    "        print('e',e)\n",
    "    for s in label.split(' '):\n",
    "        print('s',s)\n",
    "    break"
   ]
  },
  {
   "cell_type": "code",
   "execution_count": 6,
   "metadata": {},
   "outputs": [],
   "source": [
    "ll='<start> N V C 0 <end>'"
   ]
  },
  {
   "cell_type": "code",
   "execution_count": 8,
   "metadata": {},
   "outputs": [
    {
     "name": "stdout",
     "output_type": "stream",
     "text": [
      "<start>\n",
      "N\n",
      "V\n",
      "C\n",
      "0\n",
      "<end>\n"
     ]
    }
   ],
   "source": [
    "for e in ll.split(' '):\n",
    "    print(e)"
   ]
  },
  {
   "cell_type": "code",
   "execution_count": 20,
   "metadata": {},
   "outputs": [],
   "source": [
    "a=[[1,2,3,0,0,0,0],[3,4,5,6,0,0,0]]"
   ]
  },
  {
   "cell_type": "code",
   "execution_count": 21,
   "metadata": {},
   "outputs": [],
   "source": [
    "import tensorflow as tf"
   ]
  },
  {
   "cell_type": "code",
   "execution_count": 25,
   "metadata": {},
   "outputs": [],
   "source": [
    "x=tf.convert_to_tensor(a)"
   ]
  },
  {
   "cell_type": "code",
   "execution_count": 26,
   "metadata": {},
   "outputs": [
    {
     "data": {
      "text/plain": [
       "<tf.Tensor: id=3, shape=(2, 7), dtype=int32, numpy=\n",
       "array([[1, 2, 3, 0, 0, 0, 0],\n",
       "       [3, 4, 5, 6, 0, 0, 0]])>"
      ]
     },
     "execution_count": 26,
     "metadata": {},
     "output_type": "execute_result"
    }
   ],
   "source": [
    "x"
   ]
  },
  {
   "cell_type": "code",
   "execution_count": null,
   "metadata": {},
   "outputs": [],
   "source": [
    "sparse_labels"
   ]
  }
 ],
 "metadata": {
  "kernelspec": {
   "display_name": "Python 3",
   "language": "python",
   "name": "python3"
  },
  "language_info": {
   "codemirror_mode": {
    "name": "ipython",
    "version": 3
   },
   "file_extension": ".py",
   "mimetype": "text/x-python",
   "name": "python",
   "nbconvert_exporter": "python",
   "pygments_lexer": "ipython3",
   "version": "3.6.10"
  }
 },
 "nbformat": 4,
 "nbformat_minor": 4
}
